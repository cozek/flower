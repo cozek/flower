{
 "cells": [
  {
   "cell_type": "markdown",
   "metadata": {},
   "source": [
    "TODO:\n",
    "\n",
    "- Create convenient client dataloader like:\n",
    "    ```py\n",
    "    source, _ = tff.simulation.datasets.emnist.load_data()\n",
    "    def client_data(n):\n",
    "        return source.create_tf_dataset_for_client(source.client_ids[n]).map(\n",
    "            lambda e: (tf.reshape(e['pixels'], [-1]), e['label'])\n",
    "        ).repeat(10).batch(20)\n",
    "\n",
    "    # Pick a subset of client devices to participate in training.\n",
    "    train_data = [client_data(n) for n in range(3)]\n",
    "    ```\n",
    "- Get Leaf Model\n",
    "- Run Free Loader Attacks "
   ]
  },
  {
   "cell_type": "code",
   "execution_count": null,
   "metadata": {},
   "outputs": [],
   "source": []
  },
  {
   "cell_type": "code",
   "execution_count": 1,
   "metadata": {},
   "outputs": [],
   "source": [
    "import flwr as fl\n",
    "from dataset.dataset import create_federated_dataloaders\n",
    "import numpy as np\n",
    "import torchvision.transforms as transforms\n",
    "from PIL import Image\n",
    "from sklearn import preprocessing"
   ]
  },
  {
   "cell_type": "code",
   "execution_count": 2,
   "metadata": {},
   "outputs": [
    {
     "name": "stderr",
     "output_type": "stream",
     "text": [
      "INFO flwr 2023-07-29 19:34:36,189 | dataset.py:231 | NIST data downloading started\n",
      "INFO flwr 2023-07-29 19:34:36,191 | zip_downloader.py:49 | Files from https://s3.amazonaws.com/nist-srd/SD19/by_class.zip are already downloaded and extracted from the zip file into data/raw. Skipping downloading and extracting.\n",
      "INFO flwr 2023-07-29 19:34:36,192 | zip_downloader.py:49 | Files from https://s3.amazonaws.com/nist-srd/SD19/by_write.zip are already downloaded and extracted from the zip file into data/raw. Skipping downloading and extracting.\n",
      "INFO flwr 2023-07-29 19:34:36,192 | dataset.py:240 | NIST data downloading done\n",
      "INFO flwr 2023-07-29 19:34:36,193 | dataset.py:243 | Preprocessing of the NIST data started\n",
      "WARNING flwr 2023-07-29 19:34:36,196 | nist_preprocessor.py:64 | The preprocessed information already exists in data/processed_FeMNIST/processed_images_to_labels.csv. It's assumed that the preprocessed images exist too.Specify 'overwrite' as True to preprocess the images and recreate the reference information.\n",
      "INFO flwr 2023-07-29 19:34:36,197 | dataset.py:247 | Preprocessing of the NIST data done\n",
      "INFO flwr 2023-07-29 19:34:36,197 | dataset.py:250 | Creation of the sampling information started\n",
      "INFO flwr 2023-07-29 19:34:38,971 | dataset.py:261 | Creation of the sampling information done\n",
      "INFO flwr 2023-07-29 19:34:38,972 | dataset.py:264 | Creation of the partitioned by writer_id PyTorch Datasets started\n",
      "INFO flwr 2023-07-29 19:34:39,805 | dataset.py:291 | Creation of the partitioned by writer_id PyTorch Datasets done\n"
     ]
    }
   ],
   "source": [
    "trainloaders, valloaders, testloaders = create_federated_dataloaders(\n",
    "    sampling_type = 'niid',\n",
    "    dataset_fraction = 0.1,\n",
    "    batch_size = 32,\n",
    "    train_fraction = 0.8,\n",
    "    validation_fraction = 0.1,\n",
    "    test_fraction = 0.1,\n",
    "    random_seed = 42,\n",
    ")"
   ]
  },
  {
   "cell_type": "code",
   "execution_count": 3,
   "metadata": {},
   "outputs": [],
   "source": [
    "import pathlib\n",
    "import pandas as pd\n",
    "df_info_path = pathlib.Path(\"data/processed_FeMNIST/processed_images_to_labels.csv\")\n",
    "df_info = pd.read_csv(df_info_path, index_col=0)"
   ]
  },
  {
   "cell_type": "code",
   "execution_count": 9,
   "metadata": {},
   "outputs": [],
   "source": [
    "from dataset.nist_sampler import NistSampler\n",
    "sampler = NistSampler(df_info)"
   ]
  },
  {
   "cell_type": "code",
   "execution_count": 10,
   "metadata": {},
   "outputs": [],
   "source": [
    "sampled_data_info = sampler.sample(\n",
    "        'niid', 1, random_seed=42\n",
    ")"
   ]
  },
  {
   "cell_type": "code",
   "execution_count": 11,
   "metadata": {},
   "outputs": [
    {
     "data": {
      "text/plain": [
       "array([36, 49, 28, ..., 52, 38, 48])"
      ]
     },
     "execution_count": 11,
     "metadata": {},
     "output_type": "execute_result"
    }
   ],
   "source": [
    "label_encoder = preprocessing.LabelEncoder()\n",
    "labels = label_encoder.fit_transform(sampled_data_info[\"character\"])\n",
    "labels"
   ]
  },
  {
   "cell_type": "code",
   "execution_count": 12,
   "metadata": {},
   "outputs": [],
   "source": [
    "sampled_data_info['labels'] = labels"
   ]
  },
  {
   "cell_type": "code",
   "execution_count": 13,
   "metadata": {},
   "outputs": [
    {
     "data": {
      "text/plain": [
       "array([ 0,  1,  2,  3,  4,  5,  6,  7,  8,  9, 10, 11, 12, 13, 14, 15, 16,\n",
       "       17, 18, 19, 20, 21, 22, 23, 24, 25, 26, 27, 28, 29, 30, 31, 32, 33,\n",
       "       34, 35, 36, 37, 38, 39, 40, 41, 42, 43, 44, 45, 46, 47, 48, 49, 50,\n",
       "       51, 52, 53, 54, 55, 56, 57, 58, 59, 60, 61])"
      ]
     },
     "execution_count": 13,
     "metadata": {},
     "output_type": "execute_result"
    }
   ],
   "source": [
    "np.unique(labels)"
   ]
  },
  {
   "cell_type": "code",
   "execution_count": 14,
   "metadata": {},
   "outputs": [
    {
     "data": {
      "text/plain": [
       "writer_id\n",
       "f0261_06    583\n",
       "f0289_10    464\n",
       "f0027_29    446\n",
       "f0292_16    442\n",
       "f0155_13    442\n",
       "           ... \n",
       "f2027_41     33\n",
       "f1965_23     30\n",
       "f1725_33     24\n",
       "f0825_23     21\n",
       "f1727_36     18\n",
       "Name: count, Length: 3597, dtype: int64"
      ]
     },
     "execution_count": 14,
     "metadata": {},
     "output_type": "execute_result"
    }
   ],
   "source": [
    "sampled_data_info.writer_id.value_counts()"
   ]
  },
  {
   "cell_type": "code",
   "execution_count": 15,
   "metadata": {},
   "outputs": [
    {
     "data": {
      "text/plain": [
       "array(['f1454_12', 'f1290_49', 'f1100_46', ..., 'f0788_34', 'f0507_19',\n",
       "       'f3677_29'], dtype=object)"
      ]
     },
     "execution_count": 15,
     "metadata": {},
     "output_type": "execute_result"
    }
   ],
   "source": [
    "sampled_data_info.writer_id.unique()"
   ]
  },
  {
   "cell_type": "code",
   "execution_count": 16,
   "metadata": {},
   "outputs": [
    {
     "data": {
      "text/plain": [
       "'f3222_24'"
      ]
     },
     "execution_count": 16,
     "metadata": {},
     "output_type": "execute_result"
    }
   ],
   "source": [
    "random_author_id = np.random.choice(sampled_data_info.writer_id.unique(), size=1)[0]\n",
    "random_author_id"
   ]
  },
  {
   "cell_type": "code",
   "execution_count": 17,
   "metadata": {},
   "outputs": [],
   "source": [
    "author_info_df = sampled_data_info[sampled_data_info.writer_id == random_author_id]"
   ]
  },
  {
   "cell_type": "code",
   "execution_count": 18,
   "metadata": {},
   "outputs": [
    {
     "data": {
      "text/plain": [
       "array(['J', 'D', 'C', 'M', 'H', 'T', 'K', 'G', 'N', 'F', 'X', 'O', 'B',\n",
       "       'U', 'Z', 'Q', 'V', 'S', 'A', 'R', 'Y', 'I', 'P', 'L', 'E', '8',\n",
       "       '5', '9', '3', '1', '4', '6', '2', '0', '7', 'd', 't', 'p', 'u',\n",
       "       'h', 'w', 'j', 'z', 'o', 'g', 'c', 'b', 'f', 'l', 'r', 'm', 'y',\n",
       "       's', 'n', 'a', 'x', 'k'], dtype=object)"
      ]
     },
     "execution_count": 18,
     "metadata": {},
     "output_type": "execute_result"
    }
   ],
   "source": [
    "author_info_df.character.unique()"
   ]
  },
  {
   "cell_type": "code",
   "execution_count": 19,
   "metadata": {},
   "outputs": [
    {
     "data": {
      "text/plain": [
       "57"
      ]
     },
     "execution_count": 19,
     "metadata": {},
     "output_type": "execute_result"
    }
   ],
   "source": [
    "author_info_df.character.nunique()"
   ]
  },
  {
   "cell_type": "code",
   "execution_count": 20,
   "metadata": {},
   "outputs": [
    {
     "data": {
      "text/plain": [
       "id\n",
       "382944    data/processed_FeMNIST/images/character_J_nth_...\n",
       "382945    data/processed_FeMNIST/images/character_D_nth_...\n",
       "382946    data/processed_FeMNIST/images/character_C_nth_...\n",
       "382947    data/processed_FeMNIST/images/character_M_nth_...\n",
       "382948    data/processed_FeMNIST/images/character_H_nth_...\n",
       "                                ...                        \n",
       "383108    data/processed_FeMNIST/images/character_s_nth_...\n",
       "383109    data/processed_FeMNIST/images/character_n_nth_...\n",
       "383110    data/processed_FeMNIST/images/character_a_nth_...\n",
       "383111    data/processed_FeMNIST/images/character_x_nth_...\n",
       "383112    data/processed_FeMNIST/images/character_k_nth_...\n",
       "Name: path, Length: 169, dtype: object"
      ]
     },
     "execution_count": 20,
     "metadata": {},
     "output_type": "execute_result"
    }
   ],
   "source": [
    "author_info_df.path"
   ]
  },
  {
   "cell_type": "code",
   "execution_count": 21,
   "metadata": {},
   "outputs": [],
   "source": [
    "# transforms.ToTensor()"
   ]
  },
  {
   "cell_type": "code",
   "execution_count": 30,
   "metadata": {},
   "outputs": [
    {
     "data": {
      "text/plain": [
       "id\n",
       "383049    data/processed_FeMNIST/images/character_6_nth_...\n",
       "383106    data/processed_FeMNIST/images/character_y_nth_...\n",
       "383036    data/processed_FeMNIST/images/character_5_nth_...\n",
       "383057    data/processed_FeMNIST/images/character_3_nth_...\n",
       "383024    data/processed_FeMNIST/images/character_1_nth_...\n",
       "383089    data/processed_FeMNIST/images/character_d_nth_...\n",
       "383095    data/processed_FeMNIST/images/character_j_nth_...\n",
       "382983    data/processed_FeMNIST/images/character_2_nth_...\n",
       "383025    data/processed_FeMNIST/images/character_1_nth_...\n",
       "Name: path, dtype: object"
      ]
     },
     "execution_count": 30,
     "metadata": {},
     "output_type": "execute_result"
    }
   ],
   "source": [
    "author_info_df.path.sample(9)\n"
   ]
  },
  {
   "cell_type": "code",
   "execution_count": 36,
   "metadata": {},
   "outputs": [
    {
     "data": {
      "text/plain": [
       "Index(['writer_id', 'path', 'character', 'labels'], dtype='object')"
      ]
     },
     "execution_count": 36,
     "metadata": {},
     "output_type": "execute_result"
    }
   ],
   "source": [
    "author_info_df.columns"
   ]
  },
  {
   "cell_type": "code",
   "execution_count": 39,
   "metadata": {},
   "outputs": [
    {
     "data": {
      "text/html": [
       "<div>\n",
       "<style scoped>\n",
       "    .dataframe tbody tr th:only-of-type {\n",
       "        vertical-align: middle;\n",
       "    }\n",
       "\n",
       "    .dataframe tbody tr th {\n",
       "        vertical-align: top;\n",
       "    }\n",
       "\n",
       "    .dataframe thead th {\n",
       "        text-align: right;\n",
       "    }\n",
       "</style>\n",
       "<table border=\"1\" class=\"dataframe\">\n",
       "  <thead>\n",
       "    <tr style=\"text-align: right;\">\n",
       "      <th></th>\n",
       "      <th>character</th>\n",
       "      <th>path</th>\n",
       "    </tr>\n",
       "    <tr>\n",
       "      <th>id</th>\n",
       "      <th></th>\n",
       "      <th></th>\n",
       "    </tr>\n",
       "  </thead>\n",
       "  <tbody>\n",
       "    <tr>\n",
       "      <th>383049</th>\n",
       "      <td>6</td>\n",
       "      <td>data/processed_FeMNIST/images/character_6_nth_...</td>\n",
       "    </tr>\n",
       "    <tr>\n",
       "      <th>382945</th>\n",
       "      <td>D</td>\n",
       "      <td>data/processed_FeMNIST/images/character_D_nth_...</td>\n",
       "    </tr>\n",
       "    <tr>\n",
       "      <th>382986</th>\n",
       "      <td>5</td>\n",
       "      <td>data/processed_FeMNIST/images/character_5_nth_...</td>\n",
       "    </tr>\n",
       "    <tr>\n",
       "      <th>383101</th>\n",
       "      <td>b</td>\n",
       "      <td>data/processed_FeMNIST/images/character_b_nth_...</td>\n",
       "    </tr>\n",
       "    <tr>\n",
       "      <th>383041</th>\n",
       "      <td>8</td>\n",
       "      <td>data/processed_FeMNIST/images/character_8_nth_...</td>\n",
       "    </tr>\n",
       "    <tr>\n",
       "      <th>383073</th>\n",
       "      <td>9</td>\n",
       "      <td>data/processed_FeMNIST/images/character_9_nth_...</td>\n",
       "    </tr>\n",
       "    <tr>\n",
       "      <th>383067</th>\n",
       "      <td>3</td>\n",
       "      <td>data/processed_FeMNIST/images/character_3_nth_...</td>\n",
       "    </tr>\n",
       "    <tr>\n",
       "      <th>383076</th>\n",
       "      <td>4</td>\n",
       "      <td>data/processed_FeMNIST/images/character_4_nth_...</td>\n",
       "    </tr>\n",
       "    <tr>\n",
       "      <th>383074</th>\n",
       "      <td>7</td>\n",
       "      <td>data/processed_FeMNIST/images/character_7_nth_...</td>\n",
       "    </tr>\n",
       "  </tbody>\n",
       "</table>\n",
       "</div>"
      ],
      "text/plain": [
       "       character                                               path\n",
       "id                                                                 \n",
       "383049         6  data/processed_FeMNIST/images/character_6_nth_...\n",
       "382945         D  data/processed_FeMNIST/images/character_D_nth_...\n",
       "382986         5  data/processed_FeMNIST/images/character_5_nth_...\n",
       "383101         b  data/processed_FeMNIST/images/character_b_nth_...\n",
       "383041         8  data/processed_FeMNIST/images/character_8_nth_...\n",
       "383073         9  data/processed_FeMNIST/images/character_9_nth_...\n",
       "383067         3  data/processed_FeMNIST/images/character_3_nth_...\n",
       "383076         4  data/processed_FeMNIST/images/character_4_nth_...\n",
       "383074         7  data/processed_FeMNIST/images/character_7_nth_..."
      ]
     },
     "execution_count": 39,
     "metadata": {},
     "output_type": "execute_result"
    }
   ],
   "source": []
  },
  {
   "cell_type": "code",
   "execution_count": 40,
   "metadata": {},
   "outputs": [],
   "source": [
    "sample_df = author_info_df[['character','path']].sample(9)\n",
    "images =[ Image.open(path) for path in sample_df.path]\n",
    "ylabels = [l for l in sample_df.character]\n",
    "\n",
    "# print(path)"
   ]
  },
  {
   "cell_type": "code",
   "execution_count": 41,
   "metadata": {},
   "outputs": [
    {
     "data": {
      "text/plain": [
       "['U', '5', '3', '8', '0', 'H', '2', '7', '3']"
      ]
     },
     "execution_count": 41,
     "metadata": {},
     "output_type": "execute_result"
    }
   ],
   "source": [
    "ylabels"
   ]
  },
  {
   "cell_type": "code",
   "execution_count": 27,
   "metadata": {},
   "outputs": [],
   "source": [
    "import matplotlib.pyplot as plt\n",
    "from mpl_toolkits.axes_grid1 import ImageGrid"
   ]
  },
  {
   "cell_type": "code",
   "execution_count": 46,
   "metadata": {},
   "outputs": [
    {
     "data": {
      "image/png": "[encoded data removed]",
      "text/plain": [
       "<Figure size 400x400 with 18 Axes>"
      ]
     },
     "metadata": {},
     "output_type": "display_data"
    }
   ],
   "source": [
    "fig = plt.figure(figsize=(4, 4.))\n",
    "grid = ImageGrid(fig, 111, nrows_ncols=(3,3), axes_pad=0.5)\n",
    "\n",
    "for ax, im,l in zip(grid,images,ylabels):\n",
    "    ax.imshow(im)\n",
    "    # ax.set_xlabel(l)\n",
    "    ax.set_title(l)"
   ]
  },
  {
   "cell_type": "code",
   "execution_count": null,
   "metadata": {},
   "outputs": [],
   "source": []
  }
 ],
 "metadata": {
  "kernelspec": {
   "display_name": "flwr",
   "language": "python",
   "name": "python3"
  },
  "language_info": {
   "codemirror_mode": {
    "name": "ipython",
    "version": 3
   },
   "file_extension": ".py",
   "mimetype": "text/x-python",
   "name": "python",
   "nbconvert_exporter": "python",
   "pygments_lexer": "ipython3",
   "version": "3.10.12"
  },
  "orig_nbformat": 4
 },
 "nbformat": 4,
 "nbformat_minor": 2
}
